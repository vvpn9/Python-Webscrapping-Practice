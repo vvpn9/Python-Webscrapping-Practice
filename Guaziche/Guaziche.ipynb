{
 "cells": [
  {
   "cell_type": "code",
   "execution_count": 1,
   "id": "conservative-worker",
   "metadata": {},
   "outputs": [],
   "source": [
    "from selenium import webdriver\n",
    "import csv\n",
    "import random\n",
    "import time"
   ]
  },
  {
   "cell_type": "code",
   "execution_count": 2,
   "id": "nasty-channels",
   "metadata": {},
   "outputs": [],
   "source": [
    "# Setting chrome to run silently\n",
    "option=webdriver.ChromeOptions()\n",
    "option.add_argument('headless')"
   ]
  },
  {
   "cell_type": "code",
   "execution_count": 3,
   "id": "owned-banner",
   "metadata": {},
   "outputs": [],
   "source": [
    "# Go analyse the weblink\n",
    "# https://www.guazi.com/sz/buy/o1/"
   ]
  },
  {
   "cell_type": "code",
   "execution_count": 4,
   "id": "second-toyota",
   "metadata": {},
   "outputs": [],
   "source": [
    "# url=\"https://www.guazi.com/sz/buy/o1/\"\n",
    "# driver = webdriver.Chrome(options=option)\n",
    "# driver.get(url)"
   ]
  },
  {
   "cell_type": "code",
   "execution_count": 5,
   "id": "exceptional-disco",
   "metadata": {},
   "outputs": [],
   "source": [
    "# # Notice that carlist clearfix js-top is not the class name we desire\n",
    "# carlist = driver.find_element_by_class_name('carlist')\n",
    "# # Notice that elements here, not element\n",
    "# lilist = carlist.find_elements_by_tag_name('li')"
   ]
  },
  {
   "cell_type": "code",
   "execution_count": 6,
   "id": "applicable-stuff",
   "metadata": {},
   "outputs": [],
   "source": [
    "# The we prepare for a loop to extract the single piece of data"
   ]
  },
  {
   "cell_type": "code",
   "execution_count": 7,
   "id": "substantial-custody",
   "metadata": {},
   "outputs": [],
   "source": [
    "# datalist = []"
   ]
  },
  {
   "cell_type": "code",
   "execution_count": 8,
   "id": "prescribed-aging",
   "metadata": {},
   "outputs": [],
   "source": [
    "# for each_li in lilist:\n",
    "#     name = each_li.find_element_by_class_name('t').text\n",
    "    \n",
    "#     # if we do not use text.split('|'), it prints out a string with | sign in it\n",
    "#     # after using it, we have a list of string with | sign subtracted\n",
    "    \n",
    "#     year = each_li.find_element_by_class_name('t-i').text.split('|')[0]\n",
    "#     distance = each_li.find_element_by_class_name('t-i').text.split('|')[1]\n",
    "#     price = each_li.find_element_by_class_name('t-price').find_element_by_tag_name('p').text\n",
    "#     datalist.append([name,year,distance,price])"
   ]
  },
  {
   "cell_type": "code",
   "execution_count": 9,
   "id": "infinite-expense",
   "metadata": {},
   "outputs": [],
   "source": [
    "# print(datalist)"
   ]
  },
  {
   "cell_type": "code",
   "execution_count": 10,
   "id": "widespread-example",
   "metadata": {},
   "outputs": [],
   "source": [
    "def getOnePageCar(url):\n",
    "    driver = webdriver.Chrome(options=option)\n",
    "    driver.get(url)\n",
    "    carlist = driver.find_element_by_class_name('carlist')\n",
    "    lilist = carlist.find_elements_by_tag_name('li')\n",
    "    datalist = []\n",
    "    for each_li in lilist:\n",
    "        name = each_li.find_element_by_class_name('t').text\n",
    "        # if we do not use text.split('|'), it prints out a string with | sign in it\n",
    "        # after using it, we have a list of string with | sign subtracted\n",
    "        year = each_li.find_element_by_class_name('t-i').text.split('|')[0]\n",
    "        distance = each_li.find_element_by_class_name('t-i').text.split('|')[1]\n",
    "        # here we separate currency sign and the digits part for nicer view of data\n",
    "        price = each_li.find_element_by_class_name('t-price').find_element_by_tag_name('p').text.split('万')[0]\n",
    "        datalist.append([name,year,distance,price])\n",
    "    return datalist    "
   ]
  },
  {
   "cell_type": "code",
   "execution_count": 11,
   "id": "opening-perry",
   "metadata": {},
   "outputs": [],
   "source": [
    "def getManyPagesCar(pageNumber, fileName):\n",
    "    allCar = []\n",
    "    newallCar = []\n",
    "    for i in range(1, 1 + pageNumber):\n",
    "        print(f'I am fetching cars on page {i} for ya!')\n",
    "        url = f'https://www.guazi.com/sz/buy/o{pageNumber}/#bread'\n",
    "        eachPageCar = getOnePageCar(url)\n",
    "        allCar += eachPageCar\n",
    "        time.sleep(random.randint(1,2))\n",
    "    # delete duplicates\n",
    "    for car in allCar:\n",
    "        if car not in newallCar:\n",
    "            newallCar.append(car)\n",
    "    with open(fileName, 'w', encoding = 'utf-8') as f:\n",
    "        csvfile = csv.writer(f)\n",
    "        csvfile.writerow(['车名','使用时长', '使用里程', '销售价格（万）'])\n",
    "        for eachCar in newallCar:\n",
    "            csvfile.writerow(eachCar)\n",
    "        print('Finished data fetching!')"
   ]
  },
  {
   "cell_type": "code",
   "execution_count": 12,
   "id": "numerical-astrology",
   "metadata": {
    "scrolled": true
   },
   "outputs": [
    {
     "name": "stdout",
     "output_type": "stream",
     "text": [
      "I am fetching cars on page 1 for ya!\n",
      "I am fetching cars on page 2 for ya!\n",
      "I am fetching cars on page 3 for ya!\n",
      "I am fetching cars on page 4 for ya!\n",
      "I am fetching cars on page 5 for ya!\n",
      "I am fetching cars on page 6 for ya!\n",
      "I am fetching cars on page 7 for ya!\n",
      "I am fetching cars on page 8 for ya!\n",
      "I am fetching cars on page 9 for ya!\n",
      "I am fetching cars on page 10 for ya!\n",
      "Finished data fetching!\n"
     ]
    }
   ],
   "source": [
    "# the .csv is important\n",
    "getManyPagesCar(10, 'Price as of Mar 10th.csv')"
   ]
  }
 ],
 "metadata": {
  "kernelspec": {
   "display_name": "Python 3",
   "language": "python",
   "name": "python3"
  },
  "language_info": {
   "codemirror_mode": {
    "name": "ipython",
    "version": 3
   },
   "file_extension": ".py",
   "mimetype": "text/x-python",
   "name": "python",
   "nbconvert_exporter": "python",
   "pygments_lexer": "ipython3",
   "version": "3.9.2"
  }
 },
 "nbformat": 4,
 "nbformat_minor": 5
}
