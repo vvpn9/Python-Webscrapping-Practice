{
 "cells": [
  {
   "cell_type": "code",
   "execution_count": 1,
   "id": "attempted-settle",
   "metadata": {},
   "outputs": [],
   "source": [
    "import requests\n",
    "from bs4 import BeautifulSoup\n",
    "import re\n",
    "import csv\n",
    "import random"
   ]
  },
  {
   "cell_type": "code",
   "execution_count": 2,
   "id": "apparent-intention",
   "metadata": {},
   "outputs": [],
   "source": [
    "# the basic idea is to store the data in a list of lists (one movie in a list)"
   ]
  },
  {
   "cell_type": "code",
   "execution_count": 3,
   "id": "utility-order",
   "metadata": {},
   "outputs": [],
   "source": [
    "# in this one I will try to use random user agent generator called random-user-agent v1.0.1"
   ]
  },
  {
   "cell_type": "code",
   "execution_count": 4,
   "id": "announced-flooring",
   "metadata": {},
   "outputs": [],
   "source": [
    "# from random_user_agent.user_agent import UserAgent\n",
    "# from random_user_agent.params import SoftwareName, OperatingSystem, HardwareType"
   ]
  },
  {
   "cell_type": "code",
   "execution_count": 5,
   "id": "organizational-check",
   "metadata": {},
   "outputs": [],
   "source": [
    "# software_names = [SoftwareName.CHROME.value]\n",
    "# operating_systems = [OperatingSystem.WINDOWS.value, OperatingSystem.LINUX.value,OperatingSystem.MAC.value,\n",
    "#                     OperatingSystem.MAC_OS_X.value,OperatingSystem.MACOS.value]\n",
    "# hardware_types = [HardwareType.COMPUTER.value]"
   ]
  },
  {
   "cell_type": "code",
   "execution_count": 6,
   "id": "earned-interpretation",
   "metadata": {},
   "outputs": [],
   "source": [
    "# user_agent_rotator = UserAgent(software_names = software_names, \n",
    "#                                operating_systems = operating_systems,\n",
    "#                                hardware_types = hardware_types,\n",
    "#                                limit=100)"
   ]
  },
  {
   "cell_type": "code",
   "execution_count": 7,
   "id": "resistant-rouge",
   "metadata": {},
   "outputs": [],
   "source": [
    "# Here will generate a list of random user of size 100"
   ]
  },
  {
   "cell_type": "code",
   "execution_count": 8,
   "id": "modular-possibility",
   "metadata": {},
   "outputs": [],
   "source": [
    "# user_agent = user_agent_rotator.get_user_agents()"
   ]
  },
  {
   "cell_type": "code",
   "execution_count": 9,
   "id": "bacterial-suicide",
   "metadata": {},
   "outputs": [],
   "source": [
    "# print(user_agent)"
   ]
  },
  {
   "cell_type": "code",
   "execution_count": 10,
   "id": "exciting-penalty",
   "metadata": {},
   "outputs": [],
   "source": [
    "# the use of random_user_agent results failure data fetching due to false format"
   ]
  },
  {
   "cell_type": "code",
   "execution_count": null,
   "id": "emerging-sweden",
   "metadata": {},
   "outputs": [],
   "source": []
  },
  {
   "cell_type": "code",
   "execution_count": 11,
   "id": "differential-heart",
   "metadata": {},
   "outputs": [],
   "source": [
    "user_agent = [ \n",
    "    \"Mozilla/5.0 (compatible; Baiduspider/2.0; +http://www.baidu.com/search/spider.html)\", \n",
    "    \"Mozilla/4.0 (compatible; MSIE 6.0; Windows NT 5.1; SV1; AcooBrowser; .NET CLR 1.1.4322; .NET CLR 2.0.50727)\", \n",
    "    \"Mozilla/4.0 (compatible; MSIE 7.0; Windows NT 6.0; Acoo Browser; SLCC1; .NET CLR 2.0.50727; Media Center PC 5.0; .NET CLR 3.0.04506)\", \n",
    "    \"Mozilla/4.0 (compatible; MSIE 7.0; AOL 9.5; AOLBuild 4337.35; Windows NT 5.1; .NET CLR 1.1.4322; .NET CLR 2.0.50727)\", \n",
    "    \"Mozilla/5.0 (Windows; U; MSIE 9.0; Windows NT 9.0; en-US)\", \n",
    "    \"Mozilla/5.0 (compatible; MSIE 9.0; Windows NT 6.1; Win64; x64; Trident/5.0; .NET CLR 3.5.30729; .NET CLR 3.0.30729; .NET CLR 2.0.50727; Media Center PC 6.0)\", \n",
    "    \"Mozilla/5.0 (compatible; MSIE 8.0; Windows NT 6.0; Trident/4.0; WOW64; Trident/4.0; SLCC2; .NET CLR 2.0.50727; .NET CLR 3.5.30729; .NET CLR 3.0.30729; .NET CLR 1.0.3705; .NET CLR 1.1.4322)\", \n",
    "    \"Mozilla/4.0 (compatible; MSIE 7.0b; Windows NT 5.2; .NET CLR 1.1.4322; .NET CLR 2.0.50727; InfoPath.2; .NET CLR 3.0.04506.30)\", \n",
    "    \"Mozilla/5.0 (Windows; U; Windows NT 5.1; zh-CN) AppleWebKit/523.15 (KHTML, like Gecko, Safari/419.3) Arora/0.3 (Change: 287 c9dfb30)\", \n",
    "    \"Mozilla/5.0 (X11; U; Linux; en-US) AppleWebKit/527+ (KHTML, like Gecko, Safari/419.3) Arora/0.6\", \n",
    "    \"Mozilla/5.0 (Windows; U; Windows NT 5.1; en-US; rv:1.8.1.2pre) Gecko/20070215 K-Ninja/2.1.1\", \n",
    "    \"Mozilla/5.0 (Windows; U; Windows NT 5.1; zh-CN; rv:1.9) Gecko/20080705 Firefox/3.0 Kapiko/3.0\", \n",
    "    \"Mozilla/5.0 (X11; Linux i686; U;) Gecko/20070322 Kazehakase/0.4.5\", \n",
    "    \"Mozilla/5.0 (X11; U; Linux i686; en-US; rv:1.9.0.8) Gecko Fedora/1.9.0.8-1.fc10 Kazehakase/0.5.6\", \n",
    "    \"Mozilla/5.0 (Windows NT 6.1; WOW64) AppleWebKit/535.11 (KHTML, like Gecko) Chrome/17.0.963.56 Safari/535.11\", \n",
    "    \"Mozilla/5.0 (Macintosh; Intel Mac OS X 10_7_3) AppleWebKit/535.20 (KHTML, like Gecko) Chrome/19.0.1036.7 Safari/535.20\", \n",
    "    \"Opera/9.80 (Macintosh; Intel Mac OS X 10.6.8; U; fr) Presto/2.9.168 Version/11.52\"\n",
    "] "
   ]
  },
  {
   "cell_type": "code",
   "execution_count": 12,
   "id": "statutory-warning",
   "metadata": {},
   "outputs": [],
   "source": [
    "datalist = []"
   ]
  },
  {
   "cell_type": "code",
   "execution_count": 13,
   "id": "executive-retention",
   "metadata": {},
   "outputs": [],
   "source": [
    "# Now I need to define a changable function that fetch one page data starting from the first one"
   ]
  },
  {
   "cell_type": "code",
   "execution_count": 14,
   "id": "central-missouri",
   "metadata": {},
   "outputs": [],
   "source": [
    "def getOnePageData(Row):\n",
    "    url =\"https://movie.douban.com/top250?start={}&filter=\".format(Row)\n",
    "    res = requests.get(url,headers={'User-Agent':random.choice(user_agent)})\n",
    "    return(res.text)"
   ]
  },
  {
   "cell_type": "code",
   "execution_count": 15,
   "id": "crazy-break",
   "metadata": {},
   "outputs": [],
   "source": [
    "def getAllData(html):\n",
    "    soup = BeautifulSoup(html, 'html.parser')\n",
    "#     print(type(soup))\n",
    "    movielist = soup.find('ol', class_='grid_view')\n",
    "#     print(movielist)\n",
    "    for movie in movielist.find_all('li'):\n",
    "        one_movie_data = []\n",
    "        movie_title = movie.find('span', class_ = 'title').text\n",
    "        one_movie_data.append(movie_title)\n",
    "        movie_score = movie.find('span', class_ = 'rating_num').text\n",
    "        one_movie_data.append(movie_score)\n",
    "        movie_viewer = movie.find('div', class_= 'star')\n",
    "        movie_viewer_counts = re.findall(r'\\d+',str(movie_viewer))[-1]\n",
    "        one_movie_data.append(movie_viewer_counts)\n",
    "        movie_quote = movie.find('span', class_='inq')\n",
    "        if movie_quote:\n",
    "            one_movie_data.append(movie_quote.text)\n",
    "        else:\n",
    "            one_movie_data.append('None')\n",
    "        movie_link = movie.find('div',class_='hd').find('a').get('href')\n",
    "        one_movie_data.append(movie_link)\n",
    "        datalist.append(one_movie_data)"
   ]
  },
  {
   "cell_type": "code",
   "execution_count": 16,
   "id": "silent-hollywood",
   "metadata": {},
   "outputs": [],
   "source": [
    "# getAllData(getOnePageData(0))\n",
    "# print(datalist)"
   ]
  },
  {
   "cell_type": "code",
   "execution_count": 17,
   "id": "timely-kingdom",
   "metadata": {
    "scrolled": true
   },
   "outputs": [],
   "source": [
    "def save2data(fileName):\n",
    "    with open(fileName, 'w') as f:\n",
    "        csvfile = csv.writer(f)\n",
    "        csvfile.writerow(['影片名','豆瓣评分','评论数','经典短评','豆瓣网址'])\n",
    "        for movie in datalist:\n",
    "            csvfile.writerow(movie)"
   ]
  },
  {
   "cell_type": "code",
   "execution_count": 18,
   "id": "great-recruitment",
   "metadata": {},
   "outputs": [],
   "source": [
    "def mainFunc():\n",
    "    startrow = 0\n",
    "    while startrow <= 225:\n",
    "        print(f'We are fetching data from {startrow} to {startrow + 25}')\n",
    "        html = getOnePageData(startrow)\n",
    "        getAllData(html)\n",
    "        startrow += 25     \n",
    "    save2data('douban_top250.csv')\n",
    "    print('Data fetching is over')\n",
    "    return"
   ]
  },
  {
   "cell_type": "code",
   "execution_count": 19,
   "id": "regular-popularity",
   "metadata": {},
   "outputs": [
    {
     "name": "stdout",
     "output_type": "stream",
     "text": [
      "We are fetching data from 0 to 25\n",
      "We are fetching data from 25 to 50\n",
      "We are fetching data from 50 to 75\n",
      "We are fetching data from 75 to 100\n",
      "We are fetching data from 100 to 125\n",
      "We are fetching data from 125 to 150\n",
      "We are fetching data from 150 to 175\n",
      "We are fetching data from 175 to 200\n",
      "We are fetching data from 200 to 225\n",
      "We are fetching data from 225 to 250\n",
      "Data fetching is over\n"
     ]
    }
   ],
   "source": [
    "mainFunc()"
   ]
  }
 ],
 "metadata": {
  "kernelspec": {
   "display_name": "Python 3",
   "language": "python",
   "name": "python3"
  },
  "language_info": {
   "codemirror_mode": {
    "name": "ipython",
    "version": 3
   },
   "file_extension": ".py",
   "mimetype": "text/x-python",
   "name": "python",
   "nbconvert_exporter": "python",
   "pygments_lexer": "ipython3",
   "version": "3.9.2"
  }
 },
 "nbformat": 4,
 "nbformat_minor": 5
}