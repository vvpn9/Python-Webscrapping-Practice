{
 "cells": [
  {
   "cell_type": "code",
   "execution_count": 1,
   "id": "democratic-velvet",
   "metadata": {},
   "outputs": [],
   "source": [
    "import requests\n",
    "from bs4 import BeautifulSoup\n",
    "import csv\n",
    "import chardet \n",
    "import random\n",
    "import lxml\n",
    "from selenium import webdriver\n",
    "import time"
   ]
  },
  {
   "cell_type": "code",
   "execution_count": 2,
   "id": "entitled-introduction",
   "metadata": {},
   "outputs": [],
   "source": [
    "# 后台运行\n",
    "option=webdriver.ChromeOptions()\n",
    "option.add_argument('headless')"
   ]
  },
  {
   "cell_type": "code",
   "execution_count": 3,
   "id": "sitting-august",
   "metadata": {},
   "outputs": [],
   "source": [
    "user_agent = [ \n",
    "    \"Mozilla/5.0 (compatible; Baiduspider/2.0; +http://www.baidu.com/search/spider.html)\", \n",
    "    \"Mozilla/4.0 (compatible; MSIE 6.0; Windows NT 5.1; SV1; AcooBrowser; .NET CLR 1.1.4322; .NET CLR 2.0.50727)\", \n",
    "    \"Mozilla/4.0 (compatible; MSIE 7.0; Windows NT 6.0; Acoo Browser; SLCC1; .NET CLR 2.0.50727; Media Center PC 5.0; .NET CLR 3.0.04506)\", \n",
    "    \"Mozilla/4.0 (compatible; MSIE 7.0; AOL 9.5; AOLBuild 4337.35; Windows NT 5.1; .NET CLR 1.1.4322; .NET CLR 2.0.50727)\", \n",
    "    \"Mozilla/5.0 (Windows; U; MSIE 9.0; Windows NT 9.0; en-US)\", \n",
    "    \"Mozilla/5.0 (compatible; MSIE 9.0; Windows NT 6.1; Win64; x64; Trident/5.0; .NET CLR 3.5.30729; .NET CLR 3.0.30729; .NET CLR 2.0.50727; Media Center PC 6.0)\", \n",
    "    \"Mozilla/5.0 (compatible; MSIE 8.0; Windows NT 6.0; Trident/4.0; WOW64; Trident/4.0; SLCC2; .NET CLR 2.0.50727; .NET CLR 3.5.30729; .NET CLR 3.0.30729; .NET CLR 1.0.3705; .NET CLR 1.1.4322)\", \n",
    "    \"Mozilla/4.0 (compatible; MSIE 7.0b; Windows NT 5.2; .NET CLR 1.1.4322; .NET CLR 2.0.50727; InfoPath.2; .NET CLR 3.0.04506.30)\", \n",
    "    \"Mozilla/5.0 (Windows; U; Windows NT 5.1; zh-CN) AppleWebKit/523.15 (KHTML, like Gecko, Safari/419.3) Arora/0.3 (Change: 287 c9dfb30)\", \n",
    "    \"Mozilla/5.0 (X11; U; Linux; en-US) AppleWebKit/527+ (KHTML, like Gecko, Safari/419.3) Arora/0.6\", \n",
    "    \"Mozilla/5.0 (Windows; U; Windows NT 5.1; en-US; rv:1.8.1.2pre) Gecko/20070215 K-Ninja/2.1.1\", \n",
    "    \"Mozilla/5.0 (Windows; U; Windows NT 5.1; zh-CN; rv:1.9) Gecko/20080705 Firefox/3.0 Kapiko/3.0\", \n",
    "    \"Mozilla/5.0 (X11; Linux i686; U;) Gecko/20070322 Kazehakase/0.4.5\", \n",
    "    \"Mozilla/5.0 (X11; U; Linux i686; en-US; rv:1.9.0.8) Gecko Fedora/1.9.0.8-1.fc10 Kazehakase/0.5.6\", \n",
    "    \"Mozilla/5.0 (Windows NT 6.1; WOW64) AppleWebKit/535.11 (KHTML, like Gecko) Chrome/17.0.963.56 Safari/535.11\", \n",
    "    \"Mozilla/5.0 (Macintosh; Intel Mac OS X 10_7_3) AppleWebKit/535.20 (KHTML, like Gecko) Chrome/19.0.1036.7 Safari/535.20\", \n",
    "    \"Opera/9.80 (Macintosh; Intel Mac OS X 10.6.8; U; fr) Presto/2.9.168 Version/11.52\"\n",
    "] "
   ]
  },
  {
   "cell_type": "code",
   "execution_count": 4,
   "id": "boring-carol",
   "metadata": {},
   "outputs": [],
   "source": [
    "def GetOnePageData(url):\n",
    "    driver = webdriver.Chrome(options=option)\n",
    "    driver.get(url)\n",
    "    res = driver.page_source\n",
    "    soup = BeautifulSoup(res, 'lxml')\n",
    "    parent = soup.find(class_='j_joblist')\n",
    "    divs = parent.find_all(class_='e')\n",
    "    datalist = []\n",
    "    for each_div in divs:\n",
    "        jobName = each_div.find(class_='el').find(class_='t').find(class_='jname at').attrs['title']\n",
    "        companyName = each_div.find(class_='er').find('a').attrs['title']\n",
    "        address = each_div.find(class_='el').find(class_='info').find(class_='d at').text\n",
    "        salary = each_div.find(class_='el').find(class_='info').find(class_='sal').text\n",
    "        posttime = each_div.find(class_='el').find(class_='t').find(class_='time').text\n",
    "        datalist.append([jobName,companyName,address,salary,posttime])\n",
    "    return datalist"
   ]
  },
  {
   "cell_type": "code",
   "execution_count": 5,
   "id": "understood-protection",
   "metadata": {},
   "outputs": [],
   "source": [
    "def GetManyJobInfo(jobName, pageNumber, fileName):\n",
    "    allData = []\n",
    "    for i in range (1, pageNumber + 1):\n",
    "        print(f'We are fecthing {jobName} data on page {i}')\n",
    "        # 编辑地理位置及薪资参数后更新url如下格式（e.g. 深圳，薪资条件不限）\n",
    "        url = f'https://search.51job.com/list/040000,000000,0000,00,9,99,{jobName},2,{i}.html?lang=c&postchannel=0000&workyear=02&cotype=99&degreefrom=99&jobterm=99&companysize=99&ord_field=0&dibiaoid=0&line=&welfare='\n",
    "        eachPageData = GetOnePageData(url)\n",
    "        allData += eachPageData\n",
    "        time.sleep(random.randint(1,3))\n",
    "    with open(fileName, 'w', encoding = 'utf-8') as f:\n",
    "        csvfile = csv.writer(f)\n",
    "        csvfile.writerow(['职能', '公司名称', '地址', '薪资', '发布日期'])\n",
    "        for each in allData:\n",
    "            csvfile.writerow(each)\n",
    "    print(f'Data fetching finished')"
   ]
  },
  {
   "cell_type": "code",
   "execution_count": 6,
   "id": "liked-glasgow",
   "metadata": {},
   "outputs": [
    {
     "name": "stdout",
     "output_type": "stream",
     "text": [
      "We are fecthing python data on page 1\n",
      "We are fecthing python data on page 2\n",
      "We are fecthing python data on page 3\n",
      "We are fecthing python data on page 4\n",
      "We are fecthing python data on page 5\n",
      "We are fecthing python data on page 6\n",
      "We are fecthing python data on page 7\n",
      "We are fecthing python data on page 8\n",
      "We are fecthing python data on page 9\n",
      "We are fecthing python data on page 10\n",
      "We are fecthing python data on page 11\n",
      "We are fecthing python data on page 12\n",
      "We are fecthing python data on page 13\n",
      "We are fecthing python data on page 14\n",
      "We are fecthing python data on page 15\n",
      "We are fecthing python data on page 16\n",
      "We are fecthing python data on page 17\n",
      "We are fecthing python data on page 18\n",
      "We are fecthing python data on page 19\n",
      "We are fecthing python data on page 20\n",
      "Data fetching finished\n"
     ]
    }
   ],
   "source": [
    "GetManyJobInfo('python',20,'py_jobInfo_20pages.csv')"
   ]
  }
 ],
 "metadata": {
  "kernelspec": {
   "display_name": "Python 3",
   "language": "python",
   "name": "python3"
  },
  "language_info": {
   "codemirror_mode": {
    "name": "ipython",
    "version": 3
   },
   "file_extension": ".py",
   "mimetype": "text/x-python",
   "name": "python",
   "nbconvert_exporter": "python",
   "pygments_lexer": "ipython3",
   "version": "3.9.2"
  }
 },
 "nbformat": 4,
 "nbformat_minor": 5
}
