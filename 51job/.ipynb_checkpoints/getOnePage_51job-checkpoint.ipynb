{
 "cells": [
  {
   "cell_type": "code",
   "execution_count": 1,
   "id": "diagnostic-director",
   "metadata": {},
   "outputs": [],
   "source": [
    "import requests\n",
    "from bs4 import BeautifulSoup\n",
    "import csv\n",
    "import chardet \n",
    "import random\n",
    "import lxml\n",
    "from selenium import webdriver"
   ]
  },
  {
   "cell_type": "code",
   "execution_count": 2,
   "id": "agricultural-adaptation",
   "metadata": {},
   "outputs": [],
   "source": [
    "# Prepare for the header"
   ]
  },
  {
   "cell_type": "code",
   "execution_count": 3,
   "id": "loose-enlargement",
   "metadata": {},
   "outputs": [],
   "source": [
    "user_agent = [ \n",
    "    \"Mozilla/5.0 (compatible; Baiduspider/2.0; +http://www.baidu.com/search/spider.html)\", \n",
    "    \"Mozilla/4.0 (compatible; MSIE 6.0; Windows NT 5.1; SV1; AcooBrowser; .NET CLR 1.1.4322; .NET CLR 2.0.50727)\", \n",
    "    \"Mozilla/4.0 (compatible; MSIE 7.0; Windows NT 6.0; Acoo Browser; SLCC1; .NET CLR 2.0.50727; Media Center PC 5.0; .NET CLR 3.0.04506)\", \n",
    "    \"Mozilla/4.0 (compatible; MSIE 7.0; AOL 9.5; AOLBuild 4337.35; Windows NT 5.1; .NET CLR 1.1.4322; .NET CLR 2.0.50727)\", \n",
    "    \"Mozilla/5.0 (Windows; U; MSIE 9.0; Windows NT 9.0; en-US)\", \n",
    "    \"Mozilla/5.0 (compatible; MSIE 9.0; Windows NT 6.1; Win64; x64; Trident/5.0; .NET CLR 3.5.30729; .NET CLR 3.0.30729; .NET CLR 2.0.50727; Media Center PC 6.0)\", \n",
    "    \"Mozilla/5.0 (compatible; MSIE 8.0; Windows NT 6.0; Trident/4.0; WOW64; Trident/4.0; SLCC2; .NET CLR 2.0.50727; .NET CLR 3.5.30729; .NET CLR 3.0.30729; .NET CLR 1.0.3705; .NET CLR 1.1.4322)\", \n",
    "    \"Mozilla/4.0 (compatible; MSIE 7.0b; Windows NT 5.2; .NET CLR 1.1.4322; .NET CLR 2.0.50727; InfoPath.2; .NET CLR 3.0.04506.30)\", \n",
    "    \"Mozilla/5.0 (Windows; U; Windows NT 5.1; zh-CN) AppleWebKit/523.15 (KHTML, like Gecko, Safari/419.3) Arora/0.3 (Change: 287 c9dfb30)\", \n",
    "    \"Mozilla/5.0 (X11; U; Linux; en-US) AppleWebKit/527+ (KHTML, like Gecko, Safari/419.3) Arora/0.6\", \n",
    "    \"Mozilla/5.0 (Windows; U; Windows NT 5.1; en-US; rv:1.8.1.2pre) Gecko/20070215 K-Ninja/2.1.1\", \n",
    "    \"Mozilla/5.0 (Windows; U; Windows NT 5.1; zh-CN; rv:1.9) Gecko/20080705 Firefox/3.0 Kapiko/3.0\", \n",
    "    \"Mozilla/5.0 (X11; Linux i686; U;) Gecko/20070322 Kazehakase/0.4.5\", \n",
    "    \"Mozilla/5.0 (X11; U; Linux i686; en-US; rv:1.9.0.8) Gecko Fedora/1.9.0.8-1.fc10 Kazehakase/0.5.6\", \n",
    "    \"Mozilla/5.0 (Windows NT 6.1; WOW64) AppleWebKit/535.11 (KHTML, like Gecko) Chrome/17.0.963.56 Safari/535.11\", \n",
    "    \"Mozilla/5.0 (Macintosh; Intel Mac OS X 10_7_3) AppleWebKit/535.20 (KHTML, like Gecko) Chrome/19.0.1036.7 Safari/535.20\", \n",
    "    \"Opera/9.80 (Macintosh; Intel Mac OS X 10.6.8; U; fr) Presto/2.9.168 Version/11.52\"\n",
    "]"
   ]
  },
  {
   "cell_type": "code",
   "execution_count": 4,
   "id": "opened-basis",
   "metadata": {
    "scrolled": true
   },
   "outputs": [],
   "source": [
    "url = 'https://search.51job.com/list/020000%252c040000%252c010000%252c030200,000000,0000,00,9,99,python,2,1.html?lang=c&postchannel=0000&workyear=99&cotype=99&degreefrom=99&jobterm=99&companysize=99&ord_field=0&dibiaoid=0&line=&welfare='"
   ]
  },
  {
   "cell_type": "code",
   "execution_count": 5,
   "id": "exterior-florist",
   "metadata": {},
   "outputs": [],
   "source": [
    "driver = webdriver.Chrome()"
   ]
  },
  {
   "cell_type": "code",
   "execution_count": 6,
   "id": "bacterial-plastic",
   "metadata": {},
   "outputs": [],
   "source": [
    "driver.get(url)"
   ]
  },
  {
   "cell_type": "code",
   "execution_count": 7,
   "id": "instant-asset",
   "metadata": {},
   "outputs": [],
   "source": [
    "res = driver.page_source"
   ]
  },
  {
   "cell_type": "code",
   "execution_count": 8,
   "id": "vulnerable-hawaiian",
   "metadata": {},
   "outputs": [],
   "source": [
    "soup = BeautifulSoup(res, 'html.parser')"
   ]
  },
  {
   "cell_type": "code",
   "execution_count": 9,
   "id": "prostate-scanning",
   "metadata": {},
   "outputs": [],
   "source": [
    "parent = soup.find(class_='j_joblist')"
   ]
  },
  {
   "cell_type": "code",
   "execution_count": 10,
   "id": "architectural-hostel",
   "metadata": {},
   "outputs": [],
   "source": [
    "# print(parent)"
   ]
  },
  {
   "cell_type": "code",
   "execution_count": 11,
   "id": "transparent-environment",
   "metadata": {},
   "outputs": [],
   "source": [
    "divs = parent.find_all(class_='e')"
   ]
  },
  {
   "cell_type": "code",
   "execution_count": 12,
   "id": "minor-registrar",
   "metadata": {},
   "outputs": [],
   "source": [
    "datalist = []"
   ]
  },
  {
   "cell_type": "code",
   "execution_count": 13,
   "id": "satisfactory-hundred",
   "metadata": {},
   "outputs": [],
   "source": [
    "for each_div in divs:\n",
    "    jobName = each_div.find(class_='el').find(class_='t').find(class_='jname at').attrs['title']\n",
    "    companyName = each_div.find(class_='er').find('a').attrs['title']\n",
    "    address = each_div.find(class_='el').find(class_='info').find(class_='d at').text\n",
    "    salary = each_div.find(class_='el').find(class_='info').find(class_='sal').text\n",
    "    posttime = each_div.find(class_='el').find(class_='t').find(class_='time').text\n",
    "    datalist.append([jobName,companyName,address,salary,posttime])"
   ]
  },
  {
   "cell_type": "code",
   "execution_count": 14,
   "id": "minus-knitting",
   "metadata": {},
   "outputs": [
    {
     "name": "stdout",
     "output_type": "stream",
     "text": [
      "[['Python开发工程师', '“前程无忧”51job.com（上海）', '上海  |  1年经验  |  本科  |  招若干人', '', '03-08发布'], ['Python开发工程师', '鸿播（上海）投资管理有限公司', '上海-黄浦区  |  2年经验  |  本科  |  招2人', '1.5-2万/月', '03-08发布'], ['Python开发工程师', '北京众信易成科技有限公司', '北京-东城区  |  5-7年经验  |  大专  |  招3人', '1-1.5万/月', '03-08发布'], ['python后端开发', '上海蓝宗电子科技有限公司', '上海-浦东新区  |  3-4年经验  |  本科  |  招1人', '1-1.5万/月', '03-08发布'], ['Python开发工程师', '广州国交润万交通信息有限公司', '广州  |  2年经验  |  本科  |  招若干人', '0.8-1.5万/月', '03-08发布'], ['python后端开发工程师', '上海高重信息科技有限公司', '上海-普陀区  |  3-4年经验  |  大专  |  招1人', '1.5-2.5万/月', '03-08发布'], ['Python开发工程师', '南京拾柴信息科技有限公司', '北京  |  1年经验  |  本科  |  招5人', '0.8-2万/月', '03-08发布'], ['Python开发工程师', '韩端科技（深圳）有限公司', '深圳-龙岗区  |  1年经验  |  本科  |  招2人', '1-1.5万/月', '03-08发布'], ['Python开发工程师', '上海口袋云网络科技有限公司', '上海-浦东新区  |  2年经验  |  大专  |  招1人', '1.5-2万/月', '03-08发布'], ['Python开发工程师', '广州云积软件技术有限公司', '广州-黄埔区  |  2年经验  |  本科  |  招1人', '1-2万/月', '03-08发布'], ['Python开发工程师', '广州恒利信息科技有限公司', '广州-黄埔区  |  3-4年经验  |  本科  |  招2人', '1.2-2万/月', '03-08发布'], ['python爬虫工程师', '深圳桑椹电子商务有限公司', '深圳-龙华区  |  3-4年经验  |  大专  |  招1人', '0.8-1.3万/月', '03-08发布'], ['Python 后端开发工程师', '广州麦仑信息科技有限公司', '广州-黄埔区  |  3-4年经验  |  本科  |  招1人', '1-2万/月', '03-08发布'], ['python程序员', '锻链科技（上海）有限公司', '上海-浦东新区  |  1年经验  |  本科  |  招1人', '1.2-2.2万/月', '03-08发布'], ['python', '深圳兴融联科技股份有限公司', '深圳-南山区  |  2年经验  |  本科  |  招5人', '1-1.5万/月', '03-08发布'], ['Python工程师', '上海励能信息技术有限公司', '上海-普陀区  |  2年经验  |  大专  |  招1人', '1-1.5万/月', '03-08发布'], ['Python软件工程师 02', '深圳市乐思软件技术有限公司', '深圳  |  1年经验  |  本科  |  招2人', '0.9-1.1万/月', '03-08发布'], ['Python工程师（爬虫数据）', '上海秋晟资产管理有限公司', '上海-静安区  |  1年经验  |  本科  |  招1人', '1.5-2万/月', '03-08发布'], ['python爬虫工程师', '深圳市聚能优电科技有限公司', '深圳-南山区  |  2年经验  |  本科  |  招若干人', '1-2万/月', '03-08发布'], ['Python开发工程师', '上海倍肯智能科技有限公司', '上海-徐汇区  |  3-4年经验  |  本科  |  招1人', '1-2.5万/月', '03-08发布'], ['Python web后端工程师', '泰星达（北京）科技有限公司', '北京-顺义区  |  2年经验  |  本科  |  招若干人', '1.2-1.8万/月', '03-08发布'], ['python开发', '深圳樱吉尔企业咨询管理有限公司', '深圳-福田区  |  3-4年经验  |  本科  |  招若干人', '1.6-2.6万/月', '03-08发布'], ['Python开发工程师', '上海锘璞金属切削技术有限公司', '上海-嘉定区  |  2年经验  |  本科  |  招1人', '1-1.5万/月', '03-08发布'], ['Python开发工程师/前端/爬虫', '深圳市宇达计算机有限公司', '深圳-南山区  |  大专  |  招1人', '4.5-6千/月', '03-08发布'], ['C/Python高级软件工程师', '北京普太科技有限公司', '北京-朝阳区  |  8-9年经验  |  本科  |  招2人', '1.5-3万/月', '03-08发布'], ['Python开发工程师', '深圳市易博天下科技有限公司', '深圳-南山区  |  2年经验  |  大专  |  招若干人', '1.3-2.5万/月', '03-08发布'], ['Python+pySpark', '普华永道信息技术（上海）有限公司', '上海-浦东新区  |  3-4年经验  |  本科  |  招若干人', '1.2-2.4万/月', '03-08发布'], ['Python开发工程师', '健康互联（广州）信息科技股份有限公司', '广州-天河区  |  2年经验  |  本科  |  招2人', '1-1.8万/月', '03-08发布'], ['Python 开发工程师', '赤湾通信卫星应用技术（深圳）有限公司', '深圳-南山区  |  3-4年经验  |  本科  |  招1人', '1.5-2.5万/月', '03-08发布'], ['Python开发工程师', '青石经济信息咨询（深圳）有限公司', '深圳-南山区  |  3-4年经验  |  本科  |  招1人', '1.3-2万/月', '03-08发布'], ['Python开发工程师', '深圳艾捷森投资有限公司', '深圳-南山区  |  3-4年经验  |  大专  |  招若干人', '1.5-2万/月', '03-08发布'], ['Python爬虫工程师', '上海百秋电子商务有限公司', '上海-长宁区  |  3-4年经验  |  本科  |  招1人', '1.2-1.8万/月', '03-08发布'], ['Python开发工程师', '上海百联商业互联网有限公司', '上海-黄浦区  |  3-4年经验  |  大专  |  招若干人', '2-3.5万/月', '03-08发布'], ['Python开发工程师', '江苏金楷泽互联网科技有限公司', '上海-浦东新区  |  3-4年经验  |  本科  |  招若干人', '1.5-2万/月', '03-08发布'], ['Python开发工程师/前端/爬虫', '深圳市群智欣信息科技有限公司', '深圳-南山区  |  1年经验  |  大专  |  招3人', '4.5-6千/月', '03-08发布'], ['软件开发工程师(Python后端)', '深圳君同云科技有限公司', '深圳-南山区  |  1年经验  |  本科  |  招2人', '0.6-1.5万/月', '03-08发布'], ['Python开发工程师', '深圳华会科技有限公司', '深圳-龙华区  |  2年经验  |  本科  |  招2人', '0.8-1.5万/月', '03-08发布'], ['Python高级开发工程师', '浙江云诺通信科技有限公司', '上海-徐汇区  |  3-4年经验  |  本科  |  招若干人', '1.6-2.4万/月', '03-08发布'], ['Python开发工程师', '广州思软信息科技有限公司', '广州-天河区  |  3-4年经验  |  大专  |  招3人', '1-1.5万/月', '03-08发布'], ['Python后端工程师', '上海小莫网络科技有限公司', '上海-黄浦区  |  1年经验  |  本科  |  招1人', '0.7-1.2万/月', '03-08发布'], ['Python开发工程师', '智臻寰宇高科技（深圳）有限公司', '深圳-宝安区  |  1年经验  |  大专  |  招1人', '6-8千/月', '03-08发布'], ['Python研发工程师（数据分析）', '长安通信科技有限责任公司', '北京  |  2年经验  |  本科  |  招3人', '1.8-3万/月', '03-08发布'], ['数据工程师/Python软件工程师', '上海智德投资管理有限公司', '上海  |  无需经验  |  本科  |  招2人', '1-1.5万/月', '03-08发布'], ['Python高级开发工程师', '深圳市汇泉教育科技有限责任公司', '深圳-南山区  |  2年经验  |  本科  |  招5人', '0.8-1.2万/月', '03-08发布'], ['25923-后台开发工程师（Python/PHP/GO）（深圳）', '深圳市腾讯计算机系统有限公司', '深圳  |  3-4年经验  |  本科  |  招1人', '', '03-08发布'], ['python开发工程师', '字节跳动', '北京  |  3-4年经验  |  本科  |  招5人', '2-3.5万/月', '03-08发布'], ['Python开发工程师', '富士康科技集团人资总处', '深圳-龙华区  |  3-4年经验  |  本科  |  招1人', '1-1.5万/月', '03-05发布'], ['Python开发工程师', '爱立信信息技术服务（中国）有限公司', '广州  |  招若干人', '0.8-1.2万/月', '03-05发布'], ['爬虫开发工程师（Python）', '固安捷（中国）工业品销售有限责任公司', '上海  |  3-4年经验  |  本科  |  招1人', '1.3-2.1万/月', '03-05发布'], ['Senior Software Engineer (C++/Python)', 'Cisco 思科系统（中国）', '深圳  |  8-9年经验  |  本科  |  招1人', '45-65万/年', '03-01发布']]\n"
     ]
    }
   ],
   "source": [
    "print(datalist)"
   ]
  },
  {
   "cell_type": "code",
   "execution_count": 15,
   "id": "flush-arthur",
   "metadata": {},
   "outputs": [],
   "source": [
    "with open('python_job','w',encoding='utf-8') as f:\n",
    "    csvfile = csv.writer(f)\n",
    "    csvfile.writerow(['jobName','companyName','address','salary','posttime'])\n",
    "    for each in datalist:\n",
    "        csvfile.writerow(each)"
   ]
  },
  {
   "cell_type": "code",
   "execution_count": 16,
   "id": "alpine-wholesale",
   "metadata": {},
   "outputs": [],
   "source": [
    "# one page script finished\n",
    "# and now move on to next one"
   ]
  },
  {
   "cell_type": "code",
   "execution_count": null,
   "id": "indirect-moldova",
   "metadata": {},
   "outputs": [],
   "source": []
  }
 ],
 "metadata": {
  "kernelspec": {
   "display_name": "Python 3",
   "language": "python",
   "name": "python3"
  },
  "language_info": {
   "codemirror_mode": {
    "name": "ipython",
    "version": 3
   },
   "file_extension": ".py",
   "mimetype": "text/x-python",
   "name": "python",
   "nbconvert_exporter": "python",
   "pygments_lexer": "ipython3",
   "version": "3.9.2"
  }
 },
 "nbformat": 4,
 "nbformat_minor": 5
}
