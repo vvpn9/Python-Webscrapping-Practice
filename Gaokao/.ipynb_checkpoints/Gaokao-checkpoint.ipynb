{
 "cells": [
  {
   "cell_type": "code",
   "execution_count": 1,
   "id": "distant-rescue",
   "metadata": {},
   "outputs": [],
   "source": [
    "import requests\n",
    "import csv\n",
    "import json\n",
    "import random"
   ]
  },
  {
   "cell_type": "code",
   "execution_count": 2,
   "id": "demographic-collaboration",
   "metadata": {},
   "outputs": [],
   "source": [
    "# res = requests.get(\"https://gkcx.eol.cn/hotschool\")\n",
    "# res.encoding=\"utf-8\"\n",
    "# print(res.text)"
   ]
  },
  {
   "cell_type": "code",
   "execution_count": 3,
   "id": "statewide-government",
   "metadata": {},
   "outputs": [],
   "source": [
    "# only to find out that the page is loaded dynamically\n",
    "# So I will try to use selenium to repeat the process"
   ]
  },
  {
   "cell_type": "code",
   "execution_count": 4,
   "id": "upset-input",
   "metadata": {},
   "outputs": [],
   "source": [
    "user_agent = [ \n",
    "    \"Mozilla/5.0 (compatible; Baiduspider/2.0; +http://www.baidu.com/search/spider.html)\", \n",
    "    \"Mozilla/4.0 (compatible; MSIE 6.0; Windows NT 5.1; SV1; AcooBrowser; .NET CLR 1.1.4322; .NET CLR 2.0.50727)\", \n",
    "    \"Mozilla/4.0 (compatible; MSIE 7.0; Windows NT 6.0; Acoo Browser; SLCC1; .NET CLR 2.0.50727; Media Center PC 5.0; .NET CLR 3.0.04506)\", \n",
    "    \"Mozilla/4.0 (compatible; MSIE 7.0; AOL 9.5; AOLBuild 4337.35; Windows NT 5.1; .NET CLR 1.1.4322; .NET CLR 2.0.50727)\", \n",
    "    \"Mozilla/5.0 (Windows; U; MSIE 9.0; Windows NT 9.0; en-US)\", \n",
    "    \"Mozilla/5.0 (compatible; MSIE 9.0; Windows NT 6.1; Win64; x64; Trident/5.0; .NET CLR 3.5.30729; .NET CLR 3.0.30729; .NET CLR 2.0.50727; Media Center PC 6.0)\", \n",
    "    \"Mozilla/5.0 (compatible; MSIE 8.0; Windows NT 6.0; Trident/4.0; WOW64; Trident/4.0; SLCC2; .NET CLR 2.0.50727; .NET CLR 3.5.30729; .NET CLR 3.0.30729; .NET CLR 1.0.3705; .NET CLR 1.1.4322)\", \n",
    "    \"Mozilla/4.0 (compatible; MSIE 7.0b; Windows NT 5.2; .NET CLR 1.1.4322; .NET CLR 2.0.50727; InfoPath.2; .NET CLR 3.0.04506.30)\", \n",
    "    \"Mozilla/5.0 (Windows; U; Windows NT 5.1; zh-CN) AppleWebKit/523.15 (KHTML, like Gecko, Safari/419.3) Arora/0.3 (Change: 287 c9dfb30)\", \n",
    "    \"Mozilla/5.0 (X11; U; Linux; en-US) AppleWebKit/527+ (KHTML, like Gecko, Safari/419.3) Arora/0.6\", \n",
    "    \"Mozilla/5.0 (Windows; U; Windows NT 5.1; en-US; rv:1.8.1.2pre) Gecko/20070215 K-Ninja/2.1.1\", \n",
    "    \"Mozilla/5.0 (Windows; U; Windows NT 5.1; zh-CN; rv:1.9) Gecko/20080705 Firefox/3.0 Kapiko/3.0\", \n",
    "    \"Mozilla/5.0 (X11; Linux i686; U;) Gecko/20070322 Kazehakase/0.4.5\", \n",
    "    \"Mozilla/5.0 (X11; U; Linux i686; en-US; rv:1.9.0.8) Gecko Fedora/1.9.0.8-1.fc10 Kazehakase/0.5.6\", \n",
    "    \"Mozilla/5.0 (Windows NT 6.1; WOW64) AppleWebKit/535.11 (KHTML, like Gecko) Chrome/17.0.963.56 Safari/535.11\", \n",
    "    \"Mozilla/5.0 (Macintosh; Intel Mac OS X 10_7_3) AppleWebKit/535.20 (KHTML, like Gecko) Chrome/19.0.1036.7 Safari/535.20\", \n",
    "    \"Opera/9.80 (Macintosh; Intel Mac OS X 10.6.8; U; fr) Presto/2.9.168 Version/11.52\"\n",
    "]"
   ]
  },
  {
   "cell_type": "code",
   "execution_count": 5,
   "id": "important-circular",
   "metadata": {},
   "outputs": [],
   "source": [
    "# find the data source, under xhr tab there is a link\n",
    "# https://api.eol.cn/gkcx/api/?access_token=&admissions=&central=&department=&dual_class=&f211=&f985=&is_doublehigh=&keyword=&nature=&page=1&province_id=&school_type=&signsafe=&size=15&sort=view_month&sorttype=desc&type=&uri=apidata/api/gk/school/lists\n",
    "# there is a page, by definition it is a json file"
   ]
  },
  {
   "cell_type": "code",
   "execution_count": 6,
   "id": "indian-given",
   "metadata": {},
   "outputs": [],
   "source": [
    "data = []"
   ]
  },
  {
   "cell_type": "code",
   "execution_count": 7,
   "id": "special-atlantic",
   "metadata": {},
   "outputs": [],
   "source": [
    "# url = 'https://api.eol.cn/gkcx/api/?access_token=&keyword=&page=1&province_id=&school_type=&signsafe=&size=20&sort=view_month&sorttype=desc&type=&uri=apidata/api/gk/school/lists'"
   ]
  },
  {
   "cell_type": "code",
   "execution_count": 8,
   "id": "metric-labor",
   "metadata": {},
   "outputs": [],
   "source": [
    "def getOnePageJson(url):\n",
    "    res = requests.get(url,headers={'User-Agent':random.choice(user_agent)})\n",
    "    json_data = json.loads(res.text)\n",
    "    # print(json_data)\n",
    "    items = json_data.get('data').get('item') # 解码json file中的二级结构，获得以address开始的list of dicts\n",
    "    # print(items)\n",
    "    for each_item in items:\n",
    "        name = each_item.get('name')\n",
    "        prov_name = each_item.get('province_name')\n",
    "        type_name = each_item.get('type_name')\n",
    "        rank = str(each_item.get('rank'))\n",
    "        view_month = each_item.get('view_month')\n",
    "        data.append([name,prov_name,type_name,rank,view_month])"
   ]
  },
  {
   "cell_type": "code",
   "execution_count": 9,
   "id": "nasty-triumph",
   "metadata": {},
   "outputs": [],
   "source": [
    "# getOnePageJson(url)"
   ]
  },
  {
   "cell_type": "code",
   "execution_count": 10,
   "id": "ambient-jones",
   "metadata": {},
   "outputs": [],
   "source": [
    "def save_to_csv(fileName):\n",
    "    with open(fileName, 'w') as f:\n",
    "        csvfile = csv.writer(f)\n",
    "        csvfile.writerow(['学校名字', '所在省份', '学校类型', '网站热度排名', '月点击量'])\n",
    "        for each_line in data:\n",
    "            csvfile.writerow(each_line)"
   ]
  },
  {
   "cell_type": "code",
   "execution_count": 11,
   "id": "essential-madison",
   "metadata": {},
   "outputs": [],
   "source": [
    "def main(start, end):\n",
    "    for i in range(start, end + 1):\n",
    "        print(f'current page is {i}')\n",
    "        url = f'https://api.eol.cn/gkcx/api/?access_token=&keyword=&page={i}&province_id=&school_type=&signsafe=&size=20&sort=view_month&sorttype=desc&type=&uri=apidata/api/gk/school/lists'\n",
    "        getOnePageJson(url)\n",
    "    save_to_csv('Uni_Rank.csv')\n",
    "    print('Data fetching is over')"
   ]
  },
  {
   "cell_type": "code",
   "execution_count": 12,
   "id": "measured-daniel",
   "metadata": {},
   "outputs": [
    {
     "name": "stdout",
     "output_type": "stream",
     "text": [
      "current page is 1\n",
      "current page is 2\n",
      "current page is 3\n",
      "Data fetching is over\n"
     ]
    }
   ],
   "source": [
    "if __name__ == \"__main__\":\n",
    "    main(1,3)"
   ]
  }
 ],
 "metadata": {
  "kernelspec": {
   "display_name": "Python 3",
   "language": "python",
   "name": "python3"
  },
  "language_info": {
   "codemirror_mode": {
    "name": "ipython",
    "version": 3
   },
   "file_extension": ".py",
   "mimetype": "text/x-python",
   "name": "python",
   "nbconvert_exporter": "python",
   "pygments_lexer": "ipython3",
   "version": "3.9.2"
  }
 },
 "nbformat": 4,
 "nbformat_minor": 5
}
